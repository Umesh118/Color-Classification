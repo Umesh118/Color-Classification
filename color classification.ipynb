{
 "cells": [
  {
   "cell_type": "code",
   "execution_count": 3,
   "metadata": {},
   "outputs": [],
   "source": [
    "import numpy as np\n",
    "import pandas as pd\n",
    "import tensorflow as tf\n",
    "from tensorflow import keras\n"
   ]
  },
  {
   "cell_type": "code",
   "execution_count": 4,
   "metadata": {},
   "outputs": [
    {
     "name": "stderr",
     "output_type": "stream",
     "text": [
      "Using TensorFlow backend.\n"
     ]
    }
   ],
   "source": [
    "from keras.layers import Conv2D, MaxPooling2D, Dense, Activation, Flatten\n",
    "from keras.models import Sequential"
   ]
  },
  {
   "cell_type": "code",
   "execution_count": 5,
   "metadata": {},
   "outputs": [],
   "source": [
    "model = Sequential([\n",
    "                 Conv2D(32,(3,3),input_shape=(64,64,3)),\n",
    "                Activation('relu'),\n",
    "    \n",
    "                MaxPooling2D(2,2),\n",
    "    \n",
    "                Conv2D(32,(3,3)),\n",
    "                Activation('relu'),\n",
    "                \n",
    "                MaxPooling2D(2,2),\n",
    "    \n",
    "                Flatten(),\n",
    "    \n",
    "                Dense(units=128),\n",
    "                Activation('relu'),\n",
    "    \n",
    "                Dense(units=3),\n",
    "                Activation('sigmoid')\n",
    "])"
   ]
  },
  {
   "cell_type": "code",
   "execution_count": 6,
   "metadata": {},
   "outputs": [],
   "source": [
    "model.compile(optimizer='adam',loss = 'categorical_crossentropy', metrics = ['accuracy'])"
   ]
  },
  {
   "cell_type": "code",
   "execution_count": 7,
   "metadata": {},
   "outputs": [],
   "source": [
    "from keras.preprocessing.image import ImageDataGenerator"
   ]
  },
  {
   "cell_type": "code",
   "execution_count": 8,
   "metadata": {},
   "outputs": [],
   "source": [
    "train_datagen = ImageDataGenerator(rescale = 1./255)\n",
    "test_datagen = ImageDataGenerator(rescale = 1./255)"
   ]
  },
  {
   "cell_type": "code",
   "execution_count": 9,
   "metadata": {},
   "outputs": [
    {
     "name": "stdout",
     "output_type": "stream",
     "text": [
      "Found 2700 images belonging to 3 classes.\n"
     ]
    }
   ],
   "source": [
    "training_set = train_datagen.flow_from_directory(r'C:\\Users\\Umesh\\Documents\\JupyterNotebook\\Images\\665988_1173602_bundle_archive\\Data\\train',\n",
    "                                                 target_size = (64,64),\n",
    "                                                batch_size = 20,\n",
    "                                                \n",
    "                                                class_mode = 'categorical')"
   ]
  },
  {
   "cell_type": "code",
   "execution_count": 10,
   "metadata": {},
   "outputs": [
    {
     "name": "stdout",
     "output_type": "stream",
     "text": [
      "Found 300 images belonging to 3 classes.\n"
     ]
    }
   ],
   "source": [
    "test_set = test_datagen.flow_from_directory(r'C:\\Users\\Umesh\\Documents\\JupyterNotebook\\Images\\665988_1173602_bundle_archive\\Data\\test',\n",
    "                                           target_size = (64,64),\n",
    "                                           batch_size = 20,\n",
    "                                           class_mode = 'categorical')"
   ]
  },
  {
   "cell_type": "code",
   "execution_count": 11,
   "metadata": {},
   "outputs": [
    {
     "name": "stdout",
     "output_type": "stream",
     "text": [
      "Model: \"sequential_1\"\n",
      "_________________________________________________________________\n",
      "Layer (type)                 Output Shape              Param #   \n",
      "=================================================================\n",
      "conv2d_1 (Conv2D)            (None, 62, 62, 32)        896       \n",
      "_________________________________________________________________\n",
      "activation_1 (Activation)    (None, 62, 62, 32)        0         \n",
      "_________________________________________________________________\n",
      "max_pooling2d_1 (MaxPooling2 (None, 31, 31, 32)        0         \n",
      "_________________________________________________________________\n",
      "conv2d_2 (Conv2D)            (None, 29, 29, 32)        9248      \n",
      "_________________________________________________________________\n",
      "activation_2 (Activation)    (None, 29, 29, 32)        0         \n",
      "_________________________________________________________________\n",
      "max_pooling2d_2 (MaxPooling2 (None, 14, 14, 32)        0         \n",
      "_________________________________________________________________\n",
      "flatten_1 (Flatten)          (None, 6272)              0         \n",
      "_________________________________________________________________\n",
      "dense_1 (Dense)              (None, 128)               802944    \n",
      "_________________________________________________________________\n",
      "activation_3 (Activation)    (None, 128)               0         \n",
      "_________________________________________________________________\n",
      "dense_2 (Dense)              (None, 3)                 387       \n",
      "_________________________________________________________________\n",
      "activation_4 (Activation)    (None, 3)                 0         \n",
      "=================================================================\n",
      "Total params: 813,475\n",
      "Trainable params: 813,475\n",
      "Non-trainable params: 0\n",
      "_________________________________________________________________\n"
     ]
    }
   ],
   "source": [
    "model.summary()"
   ]
  },
  {
   "cell_type": "code",
   "execution_count": 12,
   "metadata": {},
   "outputs": [],
   "source": [
    "from PIL import ImageFile\n",
    "ImageFile.LOAD_TRUNCATED_IMAGES = True"
   ]
  },
  {
   "cell_type": "code",
   "execution_count": 14,
   "metadata": {},
   "outputs": [
    {
     "name": "stderr",
     "output_type": "stream",
     "text": [
      "C:\\ProgramData\\Anaconda3\\lib\\site-packages\\ipykernel_launcher.py:5: UserWarning: The semantics of the Keras 2 argument `steps_per_epoch` is not the same as the Keras 1 argument `samples_per_epoch`. `steps_per_epoch` is the number of batches to draw from the generator at each epoch. Basically steps_per_epoch = samples_per_epoch/batch_size. Similarly `nb_val_samples`->`validation_steps` and `val_samples`->`steps` arguments have changed. Update your method calls accordingly.\n",
      "  \"\"\"\n",
      "C:\\ProgramData\\Anaconda3\\lib\\site-packages\\ipykernel_launcher.py:5: UserWarning: Update your `fit_generator` call to the Keras 2 API: `fit_generator(<keras.pre..., validation_data=<keras.pre..., steps_per_epoch=45, epochs=50, validation_steps=50)`\n",
      "  \"\"\"\n"
     ]
    },
    {
     "name": "stdout",
     "output_type": "stream",
     "text": [
      "Epoch 1/50\n",
      "45/45 [==============================] - 14s 308ms/step - loss: 1.6814e-05 - accuracy: 1.0000 - val_loss: 0.0019 - val_accuracy: 0.9810\n",
      "Epoch 2/50\n",
      "45/45 [==============================] - 13s 291ms/step - loss: 5.4764e-05 - accuracy: 1.0000 - val_loss: 7.1224e-05 - val_accuracy: 0.9790\n",
      "Epoch 3/50\n",
      "45/45 [==============================] - 15s 323ms/step - loss: 1.0815e-04 - accuracy: 1.0000 - val_loss: 0.0047 - val_accuracy: 0.9840\n",
      "Epoch 4/50\n",
      "45/45 [==============================] - 13s 297ms/step - loss: 4.4369e-05 - accuracy: 1.0000 - val_loss: 0.0037 - val_accuracy: 0.9850\n",
      "Epoch 5/50\n",
      "45/45 [==============================] - 13s 290ms/step - loss: 3.2689e-05 - accuracy: 1.0000 - val_loss: 2.7418e-07 - val_accuracy: 0.9800\n",
      "Epoch 6/50\n",
      "45/45 [==============================] - 15s 330ms/step - loss: 4.0442e-05 - accuracy: 1.0000 - val_loss: 1.9968e-07 - val_accuracy: 0.9820\n",
      "Epoch 7/50\n",
      "45/45 [==============================] - 15s 340ms/step - loss: 2.1967e-05 - accuracy: 1.0000 - val_loss: 0.6118 - val_accuracy: 0.9800\n",
      "Epoch 8/50\n",
      "45/45 [==============================] - 15s 335ms/step - loss: 5.1174e-05 - accuracy: 1.0000 - val_loss: 0.8709 - val_accuracy: 0.9800\n",
      "Epoch 9/50\n",
      "45/45 [==============================] - 16s 358ms/step - loss: 1.0676e-05 - accuracy: 1.0000 - val_loss: 0.0012 - val_accuracy: 0.9800\n",
      "Epoch 10/50\n",
      "45/45 [==============================] - 14s 319ms/step - loss: 2.5919e-05 - accuracy: 1.0000 - val_loss: 5.6625e-07 - val_accuracy: 0.9800\n",
      "Epoch 11/50\n",
      "45/45 [==============================] - 15s 326ms/step - loss: 2.6214e-05 - accuracy: 1.0000 - val_loss: 0.0046 - val_accuracy: 0.9830\n",
      "Epoch 12/50\n",
      "45/45 [==============================] - 14s 310ms/step - loss: 1.2387e-05 - accuracy: 1.0000 - val_loss: 1.4004 - val_accuracy: 0.9770\n",
      "Epoch 13/50\n",
      "45/45 [==============================] - 14s 303ms/step - loss: 2.6305e-05 - accuracy: 1.0000 - val_loss: 0.6276 - val_accuracy: 0.9810\n",
      "Epoch 14/50\n",
      "45/45 [==============================] - 16s 349ms/step - loss: 1.3050e-05 - accuracy: 1.0000 - val_loss: 0.0059 - val_accuracy: 0.9780\n",
      "Epoch 15/50\n",
      "45/45 [==============================] - 16s 362ms/step - loss: 6.9651e-06 - accuracy: 1.0000 - val_loss: 0.3836 - val_accuracy: 0.9810\n",
      "Epoch 16/50\n",
      "45/45 [==============================] - 16s 353ms/step - loss: 1.4973e-05 - accuracy: 1.0000 - val_loss: 0.4905 - val_accuracy: 0.9800\n",
      "Epoch 17/50\n",
      "45/45 [==============================] - 17s 387ms/step - loss: 1.2718e-05 - accuracy: 1.0000 - val_loss: 1.5803 - val_accuracy: 0.9790\n",
      "Epoch 18/50\n",
      "45/45 [==============================] - 17s 371ms/step - loss: 1.0259e-05 - accuracy: 1.0000 - val_loss: 1.1921e-07 - val_accuracy: 0.9810\n",
      "Epoch 19/50\n",
      "45/45 [==============================] - 16s 347ms/step - loss: 1.3667e-05 - accuracy: 1.0000 - val_loss: 6.4075e-07 - val_accuracy: 0.9810\n",
      "Epoch 20/50\n",
      "45/45 [==============================] - 16s 357ms/step - loss: 1.2211e-05 - accuracy: 1.0000 - val_loss: 4.9879e-04 - val_accuracy: 0.9790\n",
      "Epoch 21/50\n",
      "45/45 [==============================] - 15s 340ms/step - loss: 5.3953e-06 - accuracy: 1.0000 - val_loss: 1.8652 - val_accuracy: 0.9800\n",
      "Epoch 22/50\n",
      "45/45 [==============================] - 13s 298ms/step - loss: 1.3644e-05 - accuracy: 1.0000 - val_loss: 0.6855 - val_accuracy: 0.9780\n",
      "Epoch 23/50\n",
      "45/45 [==============================] - 15s 325ms/step - loss: 4.9738e-06 - accuracy: 1.0000 - val_loss: 5.1888e-06 - val_accuracy: 0.9830\n",
      "Epoch 24/50\n",
      "45/45 [==============================] - 16s 364ms/step - loss: 7.5540e-06 - accuracy: 1.0000 - val_loss: 1.6093e-07 - val_accuracy: 0.9790\n",
      "Epoch 25/50\n",
      "45/45 [==============================] - 15s 328ms/step - loss: 6.1860e-06 - accuracy: 1.0000 - val_loss: 0.0053 - val_accuracy: 0.9820\n",
      "Epoch 26/50\n",
      "45/45 [==============================] - 13s 294ms/step - loss: 1.1902e-05 - accuracy: 1.0000 - val_loss: 1.1921e-07 - val_accuracy: 0.9800\n",
      "Epoch 27/50\n",
      "45/45 [==============================] - 16s 364ms/step - loss: 4.3754e-06 - accuracy: 1.0000 - val_loss: 4.8249e-05 - val_accuracy: 0.9780\n",
      "Epoch 28/50\n",
      "45/45 [==============================] - 16s 350ms/step - loss: 6.2570e-06 - accuracy: 1.0000 - val_loss: 3.9403e-04 - val_accuracy: 0.9800\n",
      "Epoch 29/50\n",
      "45/45 [==============================] - 16s 360ms/step - loss: 4.8926e-06 - accuracy: 1.0000 - val_loss: 1.1921e-07 - val_accuracy: 0.9830\n",
      "Epoch 30/50\n",
      "45/45 [==============================] - 16s 346ms/step - loss: 7.9185e-06 - accuracy: 1.0000 - val_loss: 5.1325e-04 - val_accuracy: 0.9770\n",
      "Epoch 31/50\n",
      "45/45 [==============================] - 15s 329ms/step - loss: 2.4379e-06 - accuracy: 1.0000 - val_loss: 1.2517e-07 - val_accuracy: 0.9800\n",
      "Epoch 32/50\n",
      "45/45 [==============================] - 18s 399ms/step - loss: 6.3708e-06 - accuracy: 1.0000 - val_loss: 4.7677e-04 - val_accuracy: 0.9780\n",
      "Epoch 33/50\n",
      "45/45 [==============================] - 16s 347ms/step - loss: 7.8143e-06 - accuracy: 1.0000 - val_loss: 6.0931e-04 - val_accuracy: 0.9820\n",
      "Epoch 34/50\n",
      "45/45 [==============================] - 17s 388ms/step - loss: 2.2706e-06 - accuracy: 1.0000 - val_loss: 0.8062 - val_accuracy: 0.9790\n",
      "Epoch 35/50\n",
      "45/45 [==============================] - 16s 345ms/step - loss: 9.0748e-06 - accuracy: 1.0000 - val_loss: 0.0096 - val_accuracy: 0.9810\n",
      "Epoch 36/50\n",
      "45/45 [==============================] - 15s 336ms/step - loss: 3.0788e-06 - accuracy: 1.0000 - val_loss: 0.0042 - val_accuracy: 0.9800\n",
      "Epoch 37/50\n",
      "45/45 [==============================] - 14s 312ms/step - loss: 5.6964e-06 - accuracy: 1.0000 - val_loss: 1.1921e-07 - val_accuracy: 0.9800\n",
      "Epoch 38/50\n",
      "45/45 [==============================] - 16s 352ms/step - loss: 3.4913e-06 - accuracy: 1.0000 - val_loss: 1.2219e-07 - val_accuracy: 0.9800\n",
      "Epoch 39/50\n",
      "45/45 [==============================] - 19s 419ms/step - loss: 3.3037e-06 - accuracy: 1.0000 - val_loss: 1.1921e-07 - val_accuracy: 0.9800\n",
      "Epoch 40/50\n",
      "45/45 [==============================] - 17s 386ms/step - loss: 3.9264e-06 - accuracy: 1.0000 - val_loss: 0.0048 - val_accuracy: 0.9790\n",
      "Epoch 41/50\n",
      "45/45 [==============================] - 16s 351ms/step - loss: 2.0438e-06 - accuracy: 1.0000 - val_loss: 1.2517e-07 - val_accuracy: 0.9810\n",
      "Epoch 42/50\n",
      "45/45 [==============================] - 17s 369ms/step - loss: 4.9354e-06 - accuracy: 1.0000 - val_loss: 0.8059 - val_accuracy: 0.9800\n",
      "Epoch 43/50\n",
      "45/45 [==============================] - 15s 343ms/step - loss: 3.3977e-06 - accuracy: 1.0000 - val_loss: 1.5777e-05 - val_accuracy: 0.9800\n",
      "Epoch 44/50\n",
      "45/45 [==============================] - 16s 347ms/step - loss: 4.2676e-06 - accuracy: 1.0000 - val_loss: 9.1196e-07 - val_accuracy: 0.9800\n",
      "Epoch 45/50\n",
      "45/45 [==============================] - 17s 370ms/step - loss: 2.3133e-06 - accuracy: 1.0000 - val_loss: 0.8059 - val_accuracy: 0.9800\n",
      "Epoch 46/50\n",
      "45/45 [==============================] - 16s 354ms/step - loss: 3.1303e-06 - accuracy: 1.0000 - val_loss: 9.8737e-04 - val_accuracy: 0.9810\n",
      "Epoch 47/50\n",
      "45/45 [==============================] - 16s 356ms/step - loss: 3.0427e-06 - accuracy: 1.0000 - val_loss: 1.2632e-05 - val_accuracy: 0.9780\n",
      "Epoch 48/50\n",
      "45/45 [==============================] - 16s 354ms/step - loss: 2.4933e-06 - accuracy: 1.0000 - val_loss: 1.3645e-05 - val_accuracy: 0.9810\n",
      "Epoch 49/50\n",
      "45/45 [==============================] - 15s 331ms/step - loss: 2.7536e-06 - accuracy: 1.0000 - val_loss: 1.2517e-07 - val_accuracy: 0.9810\n",
      "Epoch 50/50\n",
      "45/45 [==============================] - 16s 356ms/step - loss: 3.3495e-06 - accuracy: 1.0000 - val_loss: 1.6591e-05 - val_accuracy: 0.9780\n"
     ]
    }
   ],
   "source": [
    "history = model.fit_generator(training_set,\n",
    "                             samples_per_epoch = 900,\n",
    "                             nb_epoch = 50,\n",
    "                             validation_data = test_set,\n",
    "                            nb_val_samples = 50\n",
    "                             )"
   ]
  },
  {
   "cell_type": "code",
   "execution_count": 19,
   "metadata": {},
   "outputs": [],
   "source": [
    "acc = history.history['accuracy']\n",
    "val_acc = history.history['val_accuracy']"
   ]
  },
  {
   "cell_type": "code",
   "execution_count": 25,
   "metadata": {},
   "outputs": [
    {
     "name": "stdout",
     "output_type": "stream",
     "text": [
      "acc: 100.0 %\n",
      "val_acc: 98.02000021934509 %\n"
     ]
    }
   ],
   "source": [
    "print('acc:',sum(acc)/len(acc)*100,'%')\n",
    "print('val_acc:',sum(val_acc)/len(val_acc)*100,'%')"
   ]
  },
  {
   "cell_type": "code",
   "execution_count": null,
   "metadata": {},
   "outputs": [],
   "source": []
  }
 ],
 "metadata": {
  "kernelspec": {
   "display_name": "Python 3",
   "language": "python",
   "name": "python3"
  },
  "language_info": {
   "codemirror_mode": {
    "name": "ipython",
    "version": 3
   },
   "file_extension": ".py",
   "mimetype": "text/x-python",
   "name": "python",
   "nbconvert_exporter": "python",
   "pygments_lexer": "ipython3",
   "version": "3.7.4"
  }
 },
 "nbformat": 4,
 "nbformat_minor": 2
}
